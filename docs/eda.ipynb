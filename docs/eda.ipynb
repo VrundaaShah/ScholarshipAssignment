{
 "cells": [
  {
   "cell_type": "code",
   "execution_count": 8,
   "metadata": {},
   "outputs": [
    {
     "name": "stderr",
     "output_type": "stream",
     "text": [
      "/var/folders/yc/mphc0tn16cx2tqhspm90bcg80000gn/T/ipykernel_61071/1895984898.py:3: DtypeWarning: Columns (4) have mixed types. Specify dtype option on import or set low_memory=False.\n",
      "  climate_data = pd.read_csv(\"DataSet/climate_change.csv\")\n"
     ]
    },
    {
     "name": "stdout",
     "output_type": "stream",
     "text": [
      "\n",
      "Missing values beforeimputation:\n",
      "long                                          0\n",
      "lat                                           0\n",
      "year                                          0\n",
      "TimePeriod                                    0\n",
      "RCP                                           0\n",
      "scenario                                      0\n",
      "treecanopy                                    0\n",
      "Ann_Herb                                      0\n",
      "Bare                                          0\n",
      "Herb                                          0\n",
      "Litter                                        0\n",
      "Shrub                                         0\n",
      "DrySoilDays_Summer_whole                  46874\n",
      "Evap_Summer                               46874\n",
      "ExtremeShortTermDryStress_Summer_whole    46880\n",
      "FrostDays_Winter                          46874\n",
      "NonDrySWA_Summer_whole                    46998\n",
      "PPT_Winter                                22288\n",
      "PPT_Summer                                22288\n",
      "PPT_Annual                                29693\n",
      "T_Winter                                  22288\n",
      "T_Summer                                  22288\n",
      "T_Annual                                  29693\n",
      "Tmax_Summer                               22288\n",
      "Tmin_Winter                               46874\n",
      "VWC_Winter_whole                          46874\n",
      "VWC_Spring_whole                          46874\n",
      "VWC_Summer_whole                          46874\n",
      "VWC_Fall_whole                            46874\n",
      "dtype: int64\n",
      "\n",
      "Missing values after imputation:\n",
      "long                                          0\n",
      "lat                                           0\n",
      "year                                          0\n",
      "TimePeriod                                    0\n",
      "RCP                                           0\n",
      "scenario                                      0\n",
      "treecanopy                                    0\n",
      "Ann_Herb                                      0\n",
      "Bare                                          0\n",
      "Herb                                          0\n",
      "Litter                                        0\n",
      "Shrub                                         0\n",
      "DrySoilDays_Summer_whole                      0\n",
      "Evap_Summer                                   0\n",
      "ExtremeShortTermDryStress_Summer_whole       15\n",
      "FrostDays_Winter                              0\n",
      "NonDrySWA_Summer_whole                      357\n",
      "PPT_Winter                                    0\n",
      "PPT_Summer                                    0\n",
      "PPT_Annual                                14737\n",
      "T_Winter                                      0\n",
      "T_Summer                                      0\n",
      "T_Annual                                  14737\n",
      "Tmax_Summer                               22288\n",
      "Tmin_Winter                               46874\n",
      "VWC_Winter_whole                              0\n",
      "VWC_Spring_whole                              0\n",
      "VWC_Summer_whole                              0\n",
      "VWC_Fall_whole                                0\n",
      "dtype: int64\n",
      "\n",
      "Missing values after imputation:\n",
      "long                                          0\n",
      "lat                                           0\n",
      "year                                          0\n",
      "TimePeriod                                    0\n",
      "RCP                                           0\n",
      "scenario                                      0\n",
      "treecanopy                                    0\n",
      "Ann_Herb                                      0\n",
      "Bare                                          0\n",
      "Herb                                          0\n",
      "Litter                                        0\n",
      "Shrub                                         0\n",
      "DrySoilDays_Summer_whole                      0\n",
      "Evap_Summer                                   0\n",
      "ExtremeShortTermDryStress_Summer_whole       15\n",
      "FrostDays_Winter                              0\n",
      "NonDrySWA_Summer_whole                      357\n",
      "PPT_Winter                                    0\n",
      "PPT_Summer                                    0\n",
      "PPT_Annual                                14737\n",
      "T_Winter                                      0\n",
      "T_Summer                                      0\n",
      "T_Annual                                  14737\n",
      "Tmax_Summer                                   0\n",
      "Tmin_Winter                                   0\n",
      "VWC_Winter_whole                              0\n",
      "VWC_Spring_whole                              0\n",
      "VWC_Summer_whole                              0\n",
      "VWC_Fall_whole                                0\n",
      "dtype: int64\n",
      "\n",
      "The imputed data has been saved to 'climate_change_imputed.csv'.\n"
     ]
    }
   ],
   "source": [
    "import pandas as pd\n",
    "#importing data from new file \n",
    "climate_data = pd.read_csv(\"DataSet/climate_change.csv\")\n",
    "\n",
    "# Sort the dataset by year\n",
    "climate_data = climate_data.sort_values(by='year')\n",
    "# \n",
    "# Check for missing values\n",
    "missing_values_before_imputation = climate_data.isna().sum()\n",
    "print(\"\\nMissing values beforeimputation:\")\n",
    "print(missing_values_before_imputation)\n",
    "\n",
    "# Columns to impute\n",
    "columns_to_impute = [\n",
    "    'DrySoilDays_Summer_whole', 'Evap_Summer', 'ExtremeShortTermDryStress_Summer_whole',\n",
    "    'FrostDays_Winter', 'NonDrySWA_Summer_whole', 'PPT_Winter', 'PPT_Summer', 'PPT_Annual',\n",
    "    'T_Winter', 'T_Summer', 'T_Annual', 'VWC_Winter_whole', 'VWC_Spring_whole',\n",
    "    'VWC_Summer_whole', 'VWC_Fall_whole'\n",
    "]\n",
    "\n",
    "# Function to impute missing values by grouping by year and scenario\n",
    "def impute_missing_values(data, columns):\n",
    "    for column in columns:\n",
    "        data[column] = data.groupby(['year', 'scenario', 'long', 'lat'])[column].transform(lambda x: x.fillna(x.mean()))\n",
    "    return data\n",
    "#, 'treecanopy','Ann_Herb','Bare','Herb','Litter','Shrub'\n",
    "# Impute missing values\n",
    "climate_data_imputed = impute_missing_values(climate_data, columns_to_impute)\n",
    "\n",
    "# Check for remaining missing values\n",
    "missing_values_after_imputation = climate_data_imputed.isna().sum()\n",
    "print(\"\\nMissing values after imputation:\")\n",
    "print(missing_values_after_imputation)\n",
    "\n",
    "# Columns to impute using max and min\n",
    "columns_to_impute_extremes = {\n",
    "    'Tmax_Summer': 'max',\n",
    "    'Tmin_Winter': 'min'\n",
    "}\n",
    "\n",
    "# Function to impute missing values by grouping by year and scenario using max and min\n",
    "def impute_missing_values_extremes(data, columns):\n",
    "    for column, func in columns.items():\n",
    "        if func == 'max':\n",
    "            data[column] = data.groupby(['year', 'scenario', 'long', 'lat'])[column].transform(lambda x: x.fillna(x.max()))\n",
    "        elif func == 'min':\n",
    "            data[column] = data.groupby(['year', 'scenario', 'long', 'lat'])[column].transform(lambda x: x.fillna(x.min()))\n",
    "    return data\n",
    "\n",
    "# Impute missing values using max and min\n",
    "climate_data_imputed = impute_missing_values_extremes(climate_data_imputed, columns_to_impute_extremes)\n",
    "\n",
    "# Check for remaining missing values\n",
    "missing_values_after_imputation = climate_data_imputed.isna().sum()\n",
    "print(\"\\nMissing values after imputation:\")\n",
    "print(missing_values_after_imputation)\n",
    "\n",
    "# Save the imputed data to a new CSV file\n",
    "climate_data_imputed.to_csv(\"DataSet/climate_change_imputed.csv\", index=False)\n",
    "print(\"\\nThe imputed data has been saved to 'climate_change_imputed.csv'.\")\n"
   ]
  },
  {
   "cell_type": "code",
   "execution_count": 7,
   "metadata": {},
   "outputs": [
    {
     "name": "stderr",
     "output_type": "stream",
     "text": [
      "/var/folders/yc/mphc0tn16cx2tqhspm90bcg80000gn/T/ipykernel_53689/145231750.py:8: DtypeWarning:\n",
      "\n",
      "Columns (4) have mixed types. Specify dtype option on import or set low_memory=False.\n",
      "\n"
     ]
    },
    {
     "data": {
      "text/html": [
       "\n",
       "        <iframe\n",
       "            width=\"100%\"\n",
       "            height=\"650\"\n",
       "            src=\"http://127.0.0.1:8050/\"\n",
       "            frameborder=\"0\"\n",
       "            allowfullscreen\n",
       "            \n",
       "        ></iframe>\n",
       "        "
      ],
      "text/plain": [
       "<IPython.lib.display.IFrame at 0x17bbfa2d0>"
      ]
     },
     "metadata": {},
     "output_type": "display_data"
    }
   ],
   "source": [
    "from dash import Dash, dcc, html, Input, Output\n",
    "import plotly.express as px\n",
    "import pandas as pd\n",
    "\n",
    "app = Dash(__name__)\n",
    "\n",
    "# Load the dataset\n",
    "climate_data = pd.read_csv(\"DataSet/climate_change.csv\")\n",
    "\n",
    "# Check for missing values before imputation\n",
    "missing_values_before_imputation = climate_data.isna().sum()\n",
    "\n",
    "# Columns to impute\n",
    "columns_to_impute = [\n",
    "    'DrySoilDays_Summer_whole', 'Evap_Summer', 'ExtremeShortTermDryStress_Summer_whole',\n",
    "    'FrostDays_Winter', 'NonDrySWA_Summer_whole', 'PPT_Winter', 'PPT_Summer', 'PPT_Annual',\n",
    "    'T_Winter', 'T_Summer', 'T_Annual', 'VWC_Winter_whole', 'VWC_Spring_whole',\n",
    "    'VWC_Summer_whole', 'VWC_Fall_whole'\n",
    "]\n",
    "\n",
    "# Function to impute missing values by grouping by year and scenario\n",
    "def impute_missing_values(data, columns):\n",
    "    for column in columns:\n",
    "        data[column] = data.groupby(['year', 'scenario'])[column].transform(lambda x: x.fillna(x.mean()))\n",
    "    return data\n",
    "\n",
    "# Impute missing values\n",
    "climate_data_imputed = impute_missing_values(climate_data, columns_to_impute)\n",
    "\n",
    "# Columns to impute using max and min\n",
    "columns_to_impute_extremes = {\n",
    "    'Tmax_Summer': 'max',\n",
    "    'Tmin_Winter': 'min'\n",
    "}\n",
    "\n",
    "# Function to impute missing values by grouping by year and scenario using max and min\n",
    "def impute_missing_values_extremes(data, columns):\n",
    "    for column, func in columns.items():\n",
    "        if func == 'max':\n",
    "            data[column] = data.groupby(['year', 'scenario'])[column].transform(lambda x: x.fillna(x.max()))\n",
    "        elif func == 'min':\n",
    "            data[column] = data.groupby(['year', 'scenario'])[column].transform(lambda x: x.fillna(x.min()))\n",
    "    return data\n",
    "\n",
    "# Impute missing values using max and min\n",
    "climate_data_imputed = impute_missing_values_extremes(climate_data_imputed, columns_to_impute_extremes)\n",
    "\n",
    "# Check for remaining missing values after imputation\n",
    "missing_values_after_imputation = climate_data_imputed.isna().sum()\n",
    "\n",
    "# Combine missing values data for plotting\n",
    "missing_values_df = pd.DataFrame({\n",
    "    'Variable': missing_values_before_imputation.index,\n",
    "    'Missing Before': missing_values_before_imputation.values,\n",
    "    'Missing After': missing_values_after_imputation.values\n",
    "})\n",
    "\n",
    "app.layout = html.Div([\n",
    "    html.H4('Missing Values Before and After Imputation'),\n",
    "    dcc.Dropdown(\n",
    "        id=\"dropdown\",\n",
    "        options=[{\"label\": col, \"value\": col} for col in missing_values_df['Variable']],\n",
    "        value=missing_values_df['Variable'][0],\n",
    "        clearable=False,\n",
    "    ),\n",
    "    dcc.Graph(id=\"graph\"),\n",
    "])\n",
    "\n",
    "@app.callback(\n",
    "    Output(\"graph\", \"figure\"), \n",
    "    Input(\"dropdown\", \"value\"))\n",
    "def update_bar_chart(column):\n",
    "    filtered_df = missing_values_df[missing_values_df['Variable'] == column]\n",
    "    fig = px.bar(filtered_df.melt(id_vars='Variable', value_vars=['Missing Before', 'Missing After']),\n",
    "                 x='Variable', y='value', color='variable',\n",
    "                 color_discrete_map={\"Missing Before\": \"#89c77f\", \"Missing After\": \"#6e3824\"},\n",
    "                 labels={'value': 'Missing Values', 'variable': 'Imputation Status'})\n",
    "    fig.update_layout(barmode='group')\n",
    "    return fig\n",
    "\n",
    "if __name__ == '__main__':\n",
    "    app.run_server(debug=True)\n"
   ]
  },
  {
   "cell_type": "code",
   "execution_count": 11,
   "metadata": {},
   "outputs": [
    {
     "name": "stderr",
     "output_type": "stream",
     "text": [
      "/var/folders/yc/mphc0tn16cx2tqhspm90bcg80000gn/T/ipykernel_53689/2543007641.py:5: DtypeWarning:\n",
      "\n",
      "Columns (4) have mixed types. Specify dtype option on import or set low_memory=False.\n",
      "\n"
     ]
    },
    {
     "data": {
      "application/vnd.plotly.v1+json": {
       "config": {
        "plotlyServerURL": "https://plotly.com"
       },
       "data": [
        {
         "fill": "toself",
         "line": {
          "color": "#89c77f"
         },
         "name": "Precipitation",
         "r": [
          7.448504382669673,
          7.2048863010267965,
          7.768905835211621
         ],
         "theta": [
          "Summer",
          "Winter",
          "Annual"
         ],
         "type": "scatterpolar"
        },
        {
         "fill": "toself",
         "line": {
          "color": "#6e3824"
         },
         "name": "Temperature",
         "r": [
          23.60195134259955,
          0.8164972468283997,
          11.736603383473827
         ],
         "theta": [
          "Summer",
          "Winter",
          "Annual"
         ],
         "type": "scatterpolar"
        }
       ],
       "layout": {
        "font": {
         "color": "#6e3824"
        },
        "paper_bgcolor": "#dfe8dc",
        "plot_bgcolor": "#dfe8dc",
        "polar": {
         "radialaxis": {
          "range": [
           0,
           25.962146476859505
          ],
          "visible": true
         }
        },
        "showlegend": true,
        "template": {
         "data": {
          "bar": [
           {
            "error_x": {
             "color": "#2a3f5f"
            },
            "error_y": {
             "color": "#2a3f5f"
            },
            "marker": {
             "line": {
              "color": "#E5ECF6",
              "width": 0.5
             },
             "pattern": {
              "fillmode": "overlay",
              "size": 10,
              "solidity": 0.2
             }
            },
            "type": "bar"
           }
          ],
          "barpolar": [
           {
            "marker": {
             "line": {
              "color": "#E5ECF6",
              "width": 0.5
             },
             "pattern": {
              "fillmode": "overlay",
              "size": 10,
              "solidity": 0.2
             }
            },
            "type": "barpolar"
           }
          ],
          "carpet": [
           {
            "aaxis": {
             "endlinecolor": "#2a3f5f",
             "gridcolor": "white",
             "linecolor": "white",
             "minorgridcolor": "white",
             "startlinecolor": "#2a3f5f"
            },
            "baxis": {
             "endlinecolor": "#2a3f5f",
             "gridcolor": "white",
             "linecolor": "white",
             "minorgridcolor": "white",
             "startlinecolor": "#2a3f5f"
            },
            "type": "carpet"
           }
          ],
          "choropleth": [
           {
            "colorbar": {
             "outlinewidth": 0,
             "ticks": ""
            },
            "type": "choropleth"
           }
          ],
          "contour": [
           {
            "colorbar": {
             "outlinewidth": 0,
             "ticks": ""
            },
            "colorscale": [
             [
              0,
              "#0d0887"
             ],
             [
              0.1111111111111111,
              "#46039f"
             ],
             [
              0.2222222222222222,
              "#7201a8"
             ],
             [
              0.3333333333333333,
              "#9c179e"
             ],
             [
              0.4444444444444444,
              "#bd3786"
             ],
             [
              0.5555555555555556,
              "#d8576b"
             ],
             [
              0.6666666666666666,
              "#ed7953"
             ],
             [
              0.7777777777777778,
              "#fb9f3a"
             ],
             [
              0.8888888888888888,
              "#fdca26"
             ],
             [
              1,
              "#f0f921"
             ]
            ],
            "type": "contour"
           }
          ],
          "contourcarpet": [
           {
            "colorbar": {
             "outlinewidth": 0,
             "ticks": ""
            },
            "type": "contourcarpet"
           }
          ],
          "heatmap": [
           {
            "colorbar": {
             "outlinewidth": 0,
             "ticks": ""
            },
            "colorscale": [
             [
              0,
              "#0d0887"
             ],
             [
              0.1111111111111111,
              "#46039f"
             ],
             [
              0.2222222222222222,
              "#7201a8"
             ],
             [
              0.3333333333333333,
              "#9c179e"
             ],
             [
              0.4444444444444444,
              "#bd3786"
             ],
             [
              0.5555555555555556,
              "#d8576b"
             ],
             [
              0.6666666666666666,
              "#ed7953"
             ],
             [
              0.7777777777777778,
              "#fb9f3a"
             ],
             [
              0.8888888888888888,
              "#fdca26"
             ],
             [
              1,
              "#f0f921"
             ]
            ],
            "type": "heatmap"
           }
          ],
          "heatmapgl": [
           {
            "colorbar": {
             "outlinewidth": 0,
             "ticks": ""
            },
            "colorscale": [
             [
              0,
              "#0d0887"
             ],
             [
              0.1111111111111111,
              "#46039f"
             ],
             [
              0.2222222222222222,
              "#7201a8"
             ],
             [
              0.3333333333333333,
              "#9c179e"
             ],
             [
              0.4444444444444444,
              "#bd3786"
             ],
             [
              0.5555555555555556,
              "#d8576b"
             ],
             [
              0.6666666666666666,
              "#ed7953"
             ],
             [
              0.7777777777777778,
              "#fb9f3a"
             ],
             [
              0.8888888888888888,
              "#fdca26"
             ],
             [
              1,
              "#f0f921"
             ]
            ],
            "type": "heatmapgl"
           }
          ],
          "histogram": [
           {
            "marker": {
             "pattern": {
              "fillmode": "overlay",
              "size": 10,
              "solidity": 0.2
             }
            },
            "type": "histogram"
           }
          ],
          "histogram2d": [
           {
            "colorbar": {
             "outlinewidth": 0,
             "ticks": ""
            },
            "colorscale": [
             [
              0,
              "#0d0887"
             ],
             [
              0.1111111111111111,
              "#46039f"
             ],
             [
              0.2222222222222222,
              "#7201a8"
             ],
             [
              0.3333333333333333,
              "#9c179e"
             ],
             [
              0.4444444444444444,
              "#bd3786"
             ],
             [
              0.5555555555555556,
              "#d8576b"
             ],
             [
              0.6666666666666666,
              "#ed7953"
             ],
             [
              0.7777777777777778,
              "#fb9f3a"
             ],
             [
              0.8888888888888888,
              "#fdca26"
             ],
             [
              1,
              "#f0f921"
             ]
            ],
            "type": "histogram2d"
           }
          ],
          "histogram2dcontour": [
           {
            "colorbar": {
             "outlinewidth": 0,
             "ticks": ""
            },
            "colorscale": [
             [
              0,
              "#0d0887"
             ],
             [
              0.1111111111111111,
              "#46039f"
             ],
             [
              0.2222222222222222,
              "#7201a8"
             ],
             [
              0.3333333333333333,
              "#9c179e"
             ],
             [
              0.4444444444444444,
              "#bd3786"
             ],
             [
              0.5555555555555556,
              "#d8576b"
             ],
             [
              0.6666666666666666,
              "#ed7953"
             ],
             [
              0.7777777777777778,
              "#fb9f3a"
             ],
             [
              0.8888888888888888,
              "#fdca26"
             ],
             [
              1,
              "#f0f921"
             ]
            ],
            "type": "histogram2dcontour"
           }
          ],
          "mesh3d": [
           {
            "colorbar": {
             "outlinewidth": 0,
             "ticks": ""
            },
            "type": "mesh3d"
           }
          ],
          "parcoords": [
           {
            "line": {
             "colorbar": {
              "outlinewidth": 0,
              "ticks": ""
             }
            },
            "type": "parcoords"
           }
          ],
          "pie": [
           {
            "automargin": true,
            "type": "pie"
           }
          ],
          "scatter": [
           {
            "fillpattern": {
             "fillmode": "overlay",
             "size": 10,
             "solidity": 0.2
            },
            "type": "scatter"
           }
          ],
          "scatter3d": [
           {
            "line": {
             "colorbar": {
              "outlinewidth": 0,
              "ticks": ""
             }
            },
            "marker": {
             "colorbar": {
              "outlinewidth": 0,
              "ticks": ""
             }
            },
            "type": "scatter3d"
           }
          ],
          "scattercarpet": [
           {
            "marker": {
             "colorbar": {
              "outlinewidth": 0,
              "ticks": ""
             }
            },
            "type": "scattercarpet"
           }
          ],
          "scattergeo": [
           {
            "marker": {
             "colorbar": {
              "outlinewidth": 0,
              "ticks": ""
             }
            },
            "type": "scattergeo"
           }
          ],
          "scattergl": [
           {
            "marker": {
             "colorbar": {
              "outlinewidth": 0,
              "ticks": ""
             }
            },
            "type": "scattergl"
           }
          ],
          "scattermapbox": [
           {
            "marker": {
             "colorbar": {
              "outlinewidth": 0,
              "ticks": ""
             }
            },
            "type": "scattermapbox"
           }
          ],
          "scatterpolar": [
           {
            "marker": {
             "colorbar": {
              "outlinewidth": 0,
              "ticks": ""
             }
            },
            "type": "scatterpolar"
           }
          ],
          "scatterpolargl": [
           {
            "marker": {
             "colorbar": {
              "outlinewidth": 0,
              "ticks": ""
             }
            },
            "type": "scatterpolargl"
           }
          ],
          "scatterternary": [
           {
            "marker": {
             "colorbar": {
              "outlinewidth": 0,
              "ticks": ""
             }
            },
            "type": "scatterternary"
           }
          ],
          "surface": [
           {
            "colorbar": {
             "outlinewidth": 0,
             "ticks": ""
            },
            "colorscale": [
             [
              0,
              "#0d0887"
             ],
             [
              0.1111111111111111,
              "#46039f"
             ],
             [
              0.2222222222222222,
              "#7201a8"
             ],
             [
              0.3333333333333333,
              "#9c179e"
             ],
             [
              0.4444444444444444,
              "#bd3786"
             ],
             [
              0.5555555555555556,
              "#d8576b"
             ],
             [
              0.6666666666666666,
              "#ed7953"
             ],
             [
              0.7777777777777778,
              "#fb9f3a"
             ],
             [
              0.8888888888888888,
              "#fdca26"
             ],
             [
              1,
              "#f0f921"
             ]
            ],
            "type": "surface"
           }
          ],
          "table": [
           {
            "cells": {
             "fill": {
              "color": "#EBF0F8"
             },
             "line": {
              "color": "white"
             }
            },
            "header": {
             "fill": {
              "color": "#C8D4E3"
             },
             "line": {
              "color": "white"
             }
            },
            "type": "table"
           }
          ]
         },
         "layout": {
          "annotationdefaults": {
           "arrowcolor": "#2a3f5f",
           "arrowhead": 0,
           "arrowwidth": 1
          },
          "autotypenumbers": "strict",
          "coloraxis": {
           "colorbar": {
            "outlinewidth": 0,
            "ticks": ""
           }
          },
          "colorscale": {
           "diverging": [
            [
             0,
             "#8e0152"
            ],
            [
             0.1,
             "#c51b7d"
            ],
            [
             0.2,
             "#de77ae"
            ],
            [
             0.3,
             "#f1b6da"
            ],
            [
             0.4,
             "#fde0ef"
            ],
            [
             0.5,
             "#f7f7f7"
            ],
            [
             0.6,
             "#e6f5d0"
            ],
            [
             0.7,
             "#b8e186"
            ],
            [
             0.8,
             "#7fbc41"
            ],
            [
             0.9,
             "#4d9221"
            ],
            [
             1,
             "#276419"
            ]
           ],
           "sequential": [
            [
             0,
             "#0d0887"
            ],
            [
             0.1111111111111111,
             "#46039f"
            ],
            [
             0.2222222222222222,
             "#7201a8"
            ],
            [
             0.3333333333333333,
             "#9c179e"
            ],
            [
             0.4444444444444444,
             "#bd3786"
            ],
            [
             0.5555555555555556,
             "#d8576b"
            ],
            [
             0.6666666666666666,
             "#ed7953"
            ],
            [
             0.7777777777777778,
             "#fb9f3a"
            ],
            [
             0.8888888888888888,
             "#fdca26"
            ],
            [
             1,
             "#f0f921"
            ]
           ],
           "sequentialminus": [
            [
             0,
             "#0d0887"
            ],
            [
             0.1111111111111111,
             "#46039f"
            ],
            [
             0.2222222222222222,
             "#7201a8"
            ],
            [
             0.3333333333333333,
             "#9c179e"
            ],
            [
             0.4444444444444444,
             "#bd3786"
            ],
            [
             0.5555555555555556,
             "#d8576b"
            ],
            [
             0.6666666666666666,
             "#ed7953"
            ],
            [
             0.7777777777777778,
             "#fb9f3a"
            ],
            [
             0.8888888888888888,
             "#fdca26"
            ],
            [
             1,
             "#f0f921"
            ]
           ]
          },
          "colorway": [
           "#636efa",
           "#EF553B",
           "#00cc96",
           "#ab63fa",
           "#FFA15A",
           "#19d3f3",
           "#FF6692",
           "#B6E880",
           "#FF97FF",
           "#FECB52"
          ],
          "font": {
           "color": "#2a3f5f"
          },
          "geo": {
           "bgcolor": "white",
           "lakecolor": "white",
           "landcolor": "#E5ECF6",
           "showlakes": true,
           "showland": true,
           "subunitcolor": "white"
          },
          "hoverlabel": {
           "align": "left"
          },
          "hovermode": "closest",
          "mapbox": {
           "style": "light"
          },
          "paper_bgcolor": "white",
          "plot_bgcolor": "#E5ECF6",
          "polar": {
           "angularaxis": {
            "gridcolor": "white",
            "linecolor": "white",
            "ticks": ""
           },
           "bgcolor": "#E5ECF6",
           "radialaxis": {
            "gridcolor": "white",
            "linecolor": "white",
            "ticks": ""
           }
          },
          "scene": {
           "xaxis": {
            "backgroundcolor": "#E5ECF6",
            "gridcolor": "white",
            "gridwidth": 2,
            "linecolor": "white",
            "showbackground": true,
            "ticks": "",
            "zerolinecolor": "white"
           },
           "yaxis": {
            "backgroundcolor": "#E5ECF6",
            "gridcolor": "white",
            "gridwidth": 2,
            "linecolor": "white",
            "showbackground": true,
            "ticks": "",
            "zerolinecolor": "white"
           },
           "zaxis": {
            "backgroundcolor": "#E5ECF6",
            "gridcolor": "white",
            "gridwidth": 2,
            "linecolor": "white",
            "showbackground": true,
            "ticks": "",
            "zerolinecolor": "white"
           }
          },
          "shapedefaults": {
           "line": {
            "color": "#2a3f5f"
           }
          },
          "ternary": {
           "aaxis": {
            "gridcolor": "white",
            "linecolor": "white",
            "ticks": ""
           },
           "baxis": {
            "gridcolor": "white",
            "linecolor": "white",
            "ticks": ""
           },
           "bgcolor": "#E5ECF6",
           "caxis": {
            "gridcolor": "white",
            "linecolor": "white",
            "ticks": ""
           }
          },
          "title": {
           "x": 0.05
          },
          "xaxis": {
           "automargin": true,
           "gridcolor": "white",
           "linecolor": "white",
           "ticks": "",
           "title": {
            "standoff": 15
           },
           "zerolinecolor": "white",
           "zerolinewidth": 2
          },
          "yaxis": {
           "automargin": true,
           "gridcolor": "white",
           "linecolor": "white",
           "ticks": "",
           "title": {
            "standoff": 15
           },
           "zerolinecolor": "white",
           "zerolinewidth": 2
          }
         }
        },
        "title": {
         "text": "Precipitation and Temperature Characteristics"
        }
       }
      }
     },
     "metadata": {},
     "output_type": "display_data"
    }
   ],
   "source": [
    "import pandas as pd\n",
    "import plotly.graph_objects as go\n",
    "\n",
    "# Load the dataset\n",
    "climate_data = pd.read_csv(\"DataSet/climate_change.csv\")\n",
    "\n",
    "# Select relevant columns for the spider plot\n",
    "columns_precipitation = [\n",
    "    'PPT_Summer',\n",
    "    'PPT_Winter',\n",
    "    'PPT_Annual'\n",
    "]\n",
    "\n",
    "columns_temperature = [\n",
    "    'T_Summer',\n",
    "    'T_Winter',\n",
    "    'T_Annual'\n",
    "]\n",
    "\n",
    "# Ensure there are no missing values for the selected columns (or handle them appropriately)\n",
    "climate_data_selected_precipitation = climate_data[columns_precipitation].dropna()\n",
    "climate_data_selected_temperature = climate_data[columns_temperature].dropna()\n",
    "\n",
    "# Calculate the mean values for the selected columns\n",
    "mean_values_precipitation = climate_data_selected_precipitation.mean()\n",
    "mean_values_temperature = climate_data_selected_temperature.mean()\n",
    "\n",
    "# Create the spider plot\n",
    "fig = go.Figure()\n",
    "\n",
    "# Add trace for precipitation\n",
    "fig.add_trace(go.Scatterpolar(\n",
    "    r=mean_values_precipitation,\n",
    "    theta=['Summer', 'Winter', 'Annual'],\n",
    "    fill='toself',\n",
    "    line=dict(color='#89c77f'),  # Green color for the line\n",
    "    name='Precipitation'\n",
    "))\n",
    "\n",
    "# Add trace for temperature\n",
    "fig.add_trace(go.Scatterpolar(\n",
    "    r=mean_values_temperature,\n",
    "    theta=['Summer', 'Winter', 'Annual'],\n",
    "    fill='toself',\n",
    "    line=dict(color='#6e3824'),  # Brown color for the line\n",
    "    name='Temperature'\n",
    "))\n",
    "\n",
    "# Update the layout with a green and brown theme\n",
    "fig.update_layout(\n",
    "    polar=dict(\n",
    "        radialaxis=dict(\n",
    "            visible=True,\n",
    "            range=[0, max(max(mean_values_precipitation), max(mean_values_temperature))*1.1]\n",
    "        )\n",
    "    ),\n",
    "    showlegend=True,\n",
    "    title=\"Precipitation and Temperature Characteristics\",\n",
    "    plot_bgcolor='#dfe8dc',  # Light green background color\n",
    "    paper_bgcolor='#dfe8dc',  # Light green background color\n",
    "    font=dict(color='#6e3824')  # Brown color for the text\n",
    ")\n",
    "\n",
    "# Show the plot\n",
    "fig.show()\n"
   ]
  },
  {
   "cell_type": "code",
   "execution_count": 12,
   "metadata": {},
   "outputs": [
    {
     "name": "stderr",
     "output_type": "stream",
     "text": [
      "/var/folders/yc/mphc0tn16cx2tqhspm90bcg80000gn/T/ipykernel_53689/4037483020.py:5: DtypeWarning:\n",
      "\n",
      "Columns (4) have mixed types. Specify dtype option on import or set low_memory=False.\n",
      "\n"
     ]
    },
    {
     "ename": "KeyError",
     "evalue": "\"['month'] not in index\"",
     "output_type": "error",
     "traceback": [
      "\u001b[0;31m---------------------------------------------------------------------------\u001b[0m",
      "\u001b[0;31mKeyError\u001b[0m                                  Traceback (most recent call last)",
      "Cell \u001b[0;32mIn[12], line 14\u001b[0m\n\u001b[1;32m      8\u001b[0m columns \u001b[38;5;241m=\u001b[39m [\n\u001b[1;32m      9\u001b[0m     \u001b[38;5;124m'\u001b[39m\u001b[38;5;124myear\u001b[39m\u001b[38;5;124m'\u001b[39m, \u001b[38;5;124m'\u001b[39m\u001b[38;5;124mmonth\u001b[39m\u001b[38;5;124m'\u001b[39m, \u001b[38;5;124m'\u001b[39m\u001b[38;5;124mPPT_Summer\u001b[39m\u001b[38;5;124m'\u001b[39m, \u001b[38;5;124m'\u001b[39m\u001b[38;5;124mPPT_Winter\u001b[39m\u001b[38;5;124m'\u001b[39m, \u001b[38;5;124m'\u001b[39m\u001b[38;5;124mPPT_Annual\u001b[39m\u001b[38;5;124m'\u001b[39m, \n\u001b[1;32m     10\u001b[0m     \u001b[38;5;124m'\u001b[39m\u001b[38;5;124mT_Summer\u001b[39m\u001b[38;5;124m'\u001b[39m, \u001b[38;5;124m'\u001b[39m\u001b[38;5;124mT_Winter\u001b[39m\u001b[38;5;124m'\u001b[39m, \u001b[38;5;124m'\u001b[39m\u001b[38;5;124mT_Annual\u001b[39m\u001b[38;5;124m'\u001b[39m\n\u001b[1;32m     11\u001b[0m ]\n\u001b[1;32m     13\u001b[0m \u001b[38;5;66;03m# Assuming the dataset has 'year' and 'month' columns for creating a time series heatmap\u001b[39;00m\n\u001b[0;32m---> 14\u001b[0m climate_data_filtered \u001b[38;5;241m=\u001b[39m \u001b[43mclimate_data\u001b[49m\u001b[43m[\u001b[49m\u001b[43mcolumns\u001b[49m\u001b[43m]\u001b[49m\u001b[38;5;241m.\u001b[39mdropna()\n\u001b[1;32m     16\u001b[0m \u001b[38;5;66;03m# Melt the dataframe for a heatmap suitable format\u001b[39;00m\n\u001b[1;32m     17\u001b[0m climate_data_melted \u001b[38;5;241m=\u001b[39m climate_data_filtered\u001b[38;5;241m.\u001b[39mmelt(\n\u001b[1;32m     18\u001b[0m     id_vars\u001b[38;5;241m=\u001b[39m[\u001b[38;5;124m'\u001b[39m\u001b[38;5;124myear\u001b[39m\u001b[38;5;124m'\u001b[39m, \u001b[38;5;124m'\u001b[39m\u001b[38;5;124mmonth\u001b[39m\u001b[38;5;124m'\u001b[39m], \n\u001b[1;32m     19\u001b[0m     value_vars\u001b[38;5;241m=\u001b[39m[\u001b[38;5;124m'\u001b[39m\u001b[38;5;124mPPT_Summer\u001b[39m\u001b[38;5;124m'\u001b[39m, \u001b[38;5;124m'\u001b[39m\u001b[38;5;124mPPT_Winter\u001b[39m\u001b[38;5;124m'\u001b[39m, \u001b[38;5;124m'\u001b[39m\u001b[38;5;124mPPT_Annual\u001b[39m\u001b[38;5;124m'\u001b[39m, \u001b[38;5;124m'\u001b[39m\u001b[38;5;124mT_Summer\u001b[39m\u001b[38;5;124m'\u001b[39m, \u001b[38;5;124m'\u001b[39m\u001b[38;5;124mT_Winter\u001b[39m\u001b[38;5;124m'\u001b[39m, \u001b[38;5;124m'\u001b[39m\u001b[38;5;124mT_Annual\u001b[39m\u001b[38;5;124m'\u001b[39m],\n\u001b[1;32m     20\u001b[0m     var_name\u001b[38;5;241m=\u001b[39m\u001b[38;5;124m'\u001b[39m\u001b[38;5;124mMetric\u001b[39m\u001b[38;5;124m'\u001b[39m, \n\u001b[1;32m     21\u001b[0m     value_name\u001b[38;5;241m=\u001b[39m\u001b[38;5;124m'\u001b[39m\u001b[38;5;124mValue\u001b[39m\u001b[38;5;124m'\u001b[39m\n\u001b[1;32m     22\u001b[0m )\n",
      "File \u001b[0;32m~/anaconda3/envs/dsan/lib/python3.11/site-packages/pandas/core/frame.py:3767\u001b[0m, in \u001b[0;36mDataFrame.__getitem__\u001b[0;34m(self, key)\u001b[0m\n\u001b[1;32m   3765\u001b[0m     \u001b[38;5;28;01mif\u001b[39;00m is_iterator(key):\n\u001b[1;32m   3766\u001b[0m         key \u001b[38;5;241m=\u001b[39m \u001b[38;5;28mlist\u001b[39m(key)\n\u001b[0;32m-> 3767\u001b[0m     indexer \u001b[38;5;241m=\u001b[39m \u001b[38;5;28;43mself\u001b[39;49m\u001b[38;5;241;43m.\u001b[39;49m\u001b[43mcolumns\u001b[49m\u001b[38;5;241;43m.\u001b[39;49m\u001b[43m_get_indexer_strict\u001b[49m\u001b[43m(\u001b[49m\u001b[43mkey\u001b[49m\u001b[43m,\u001b[49m\u001b[43m \u001b[49m\u001b[38;5;124;43m\"\u001b[39;49m\u001b[38;5;124;43mcolumns\u001b[39;49m\u001b[38;5;124;43m\"\u001b[39;49m\u001b[43m)\u001b[49m[\u001b[38;5;241m1\u001b[39m]\n\u001b[1;32m   3769\u001b[0m \u001b[38;5;66;03m# take() does not accept boolean indexers\u001b[39;00m\n\u001b[1;32m   3770\u001b[0m \u001b[38;5;28;01mif\u001b[39;00m \u001b[38;5;28mgetattr\u001b[39m(indexer, \u001b[38;5;124m\"\u001b[39m\u001b[38;5;124mdtype\u001b[39m\u001b[38;5;124m\"\u001b[39m, \u001b[38;5;28;01mNone\u001b[39;00m) \u001b[38;5;241m==\u001b[39m \u001b[38;5;28mbool\u001b[39m:\n",
      "File \u001b[0;32m~/anaconda3/envs/dsan/lib/python3.11/site-packages/pandas/core/indexes/base.py:5876\u001b[0m, in \u001b[0;36mIndex._get_indexer_strict\u001b[0;34m(self, key, axis_name)\u001b[0m\n\u001b[1;32m   5873\u001b[0m \u001b[38;5;28;01melse\u001b[39;00m:\n\u001b[1;32m   5874\u001b[0m     keyarr, indexer, new_indexer \u001b[38;5;241m=\u001b[39m \u001b[38;5;28mself\u001b[39m\u001b[38;5;241m.\u001b[39m_reindex_non_unique(keyarr)\n\u001b[0;32m-> 5876\u001b[0m \u001b[38;5;28;43mself\u001b[39;49m\u001b[38;5;241;43m.\u001b[39;49m\u001b[43m_raise_if_missing\u001b[49m\u001b[43m(\u001b[49m\u001b[43mkeyarr\u001b[49m\u001b[43m,\u001b[49m\u001b[43m \u001b[49m\u001b[43mindexer\u001b[49m\u001b[43m,\u001b[49m\u001b[43m \u001b[49m\u001b[43maxis_name\u001b[49m\u001b[43m)\u001b[49m\n\u001b[1;32m   5878\u001b[0m keyarr \u001b[38;5;241m=\u001b[39m \u001b[38;5;28mself\u001b[39m\u001b[38;5;241m.\u001b[39mtake(indexer)\n\u001b[1;32m   5879\u001b[0m \u001b[38;5;28;01mif\u001b[39;00m \u001b[38;5;28misinstance\u001b[39m(key, Index):\n\u001b[1;32m   5880\u001b[0m     \u001b[38;5;66;03m# GH 42790 - Preserve name from an Index\u001b[39;00m\n",
      "File \u001b[0;32m~/anaconda3/envs/dsan/lib/python3.11/site-packages/pandas/core/indexes/base.py:5938\u001b[0m, in \u001b[0;36mIndex._raise_if_missing\u001b[0;34m(self, key, indexer, axis_name)\u001b[0m\n\u001b[1;32m   5935\u001b[0m     \u001b[38;5;28;01mraise\u001b[39;00m \u001b[38;5;167;01mKeyError\u001b[39;00m(\u001b[38;5;124mf\u001b[39m\u001b[38;5;124m\"\u001b[39m\u001b[38;5;124mNone of [\u001b[39m\u001b[38;5;132;01m{\u001b[39;00mkey\u001b[38;5;132;01m}\u001b[39;00m\u001b[38;5;124m] are in the [\u001b[39m\u001b[38;5;132;01m{\u001b[39;00maxis_name\u001b[38;5;132;01m}\u001b[39;00m\u001b[38;5;124m]\u001b[39m\u001b[38;5;124m\"\u001b[39m)\n\u001b[1;32m   5937\u001b[0m not_found \u001b[38;5;241m=\u001b[39m \u001b[38;5;28mlist\u001b[39m(ensure_index(key)[missing_mask\u001b[38;5;241m.\u001b[39mnonzero()[\u001b[38;5;241m0\u001b[39m]]\u001b[38;5;241m.\u001b[39munique())\n\u001b[0;32m-> 5938\u001b[0m \u001b[38;5;28;01mraise\u001b[39;00m \u001b[38;5;167;01mKeyError\u001b[39;00m(\u001b[38;5;124mf\u001b[39m\u001b[38;5;124m\"\u001b[39m\u001b[38;5;132;01m{\u001b[39;00mnot_found\u001b[38;5;132;01m}\u001b[39;00m\u001b[38;5;124m not in index\u001b[39m\u001b[38;5;124m\"\u001b[39m)\n",
      "\u001b[0;31mKeyError\u001b[0m: \"['month'] not in index\""
     ]
    }
   ],
   "source": [
    "import pandas as pd\n",
    "import plotly.express as px\n",
    "\n",
    "# Load the dataset\n",
    "climate_data = pd.read_csv(\"DataSet/climate_change.csv\")\n",
    "\n",
    "# Ensure relevant columns are present and filter the data accordingly\n",
    "columns = [\n",
    "    'year', 'month', 'PPT_Summer', 'PPT_Winter', 'PPT_Annual', \n",
    "    'T_Summer', 'T_Winter', 'T_Annual'\n",
    "]\n",
    "\n",
    "# Assuming the dataset has 'year' and 'month' columns for creating a time series heatmap\n",
    "climate_data_filtered = climate_data[columns].dropna()\n",
    "\n",
    "# Melt the dataframe for a heatmap suitable format\n",
    "climate_data_melted = climate_data_filtered.melt(\n",
    "    id_vars=['year', 'month'], \n",
    "    value_vars=['PPT_Summer', 'PPT_Winter', 'PPT_Annual', 'T_Summer', 'T_Winter', 'T_Annual'],\n",
    "    var_name='Metric', \n",
    "    value_name='Value'\n",
    ")\n",
    "\n",
    "# Create the heatmap using Plotly Express\n",
    "fig = px.density_heatmap(\n",
    "    climate_data_melted, \n",
    "    x='year', \n",
    "    y='month', \n",
    "    z='Value',\n",
    "    facet_col='Metric',\n",
    "    color_continuous_scale=['#dfe8dc', '#6e3824'],  # Green and brown theme\n",
    "    title='Climate Characteristics Heatmap'\n",
    ")\n",
    "\n",
    "# Update layout to enhance the visualization\n",
    "fig.update_layout(\n",
    "    height=800,  # Adjust height for better readability\n",
    "    plot_bgcolor='#dfe8dc',  # Light green background color\n",
    "    paper_bgcolor='#dfe8dc',  # Light green background color\n",
    "    font=dict(color='#6e3824')  # Brown color for the text\n",
    ")\n",
    "\n",
    "# Show the plot\n",
    "fig.show()\n"
   ]
  }
 ],
 "metadata": {
  "kernelspec": {
   "display_name": "dsan",
   "language": "python",
   "name": "python3"
  },
  "language_info": {
   "codemirror_mode": {
    "name": "ipython",
    "version": 3
   },
   "file_extension": ".py",
   "mimetype": "text/x-python",
   "name": "python",
   "nbconvert_exporter": "python",
   "pygments_lexer": "ipython3",
   "version": "3.11.3"
  }
 },
 "nbformat": 4,
 "nbformat_minor": 2
}
